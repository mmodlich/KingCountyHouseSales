{
 "cells": [
  {
   "cell_type": "code",
   "execution_count": 1,
   "id": "5aed144d",
   "metadata": {},
   "outputs": [],
   "source": [
    "# Import required Python libraries\n",
    "\n",
    "import pandas as pd\n",
    "import numpy as np\n",
    "\n",
    "import matplotlib.pyplot as plt\n",
    "\n",
    "from sklearn.linear_model import LinearRegression, Ridge\n",
    "from sklearn.model_selection import train_test_split, cross_validate, GridSearchCV\n",
    "from sklearn.metrics import mean_squared_error, r2_score\n",
    "from sklearn.ensemble import RandomForestRegressor"
   ]
  },
  {
   "cell_type": "code",
   "execution_count": 2,
   "id": "96f28f10",
   "metadata": {},
   "outputs": [],
   "source": [
    "# Load 'X_train.csv, X_test.csv, y_train.csv, y_test.csv'\n",
    "X_train = pd.read_csv('/Users/mitchmodlich/Desktop/Springboard_Data_Science/Springboard/KingCountyHouseSales/data/processed/X_train.csv', index_col=0)\n",
    "X_test = pd.read_csv('/Users/mitchmodlich/Desktop/Springboard_Data_Science/Springboard/KingCountyHouseSales/data/processed/X_test.csv', index_col=0)\n",
    "y_train = pd.read_csv('/Users/mitchmodlich/Desktop/Springboard_Data_Science/Springboard/KingCountyHouseSales/data/processed/y_train.csv', index_col=0)\n",
    "y_test = pd.read_csv('/Users/mitchmodlich/Desktop/Springboard_Data_Science/Springboard/KingCountyHouseSales/data/processed/y_test.csv', index_col=0)"
   ]
  },
  {
   "cell_type": "code",
   "execution_count": 3,
   "id": "cdc19ccf",
   "metadata": {},
   "outputs": [
    {
     "data": {
      "text/html": [
       "<div>\n",
       "<style scoped>\n",
       "    .dataframe tbody tr th:only-of-type {\n",
       "        vertical-align: middle;\n",
       "    }\n",
       "\n",
       "    .dataframe tbody tr th {\n",
       "        vertical-align: top;\n",
       "    }\n",
       "\n",
       "    .dataframe thead th {\n",
       "        text-align: right;\n",
       "    }\n",
       "</style>\n",
       "<table border=\"1\" class=\"dataframe\">\n",
       "  <thead>\n",
       "    <tr style=\"text-align: right;\">\n",
       "      <th></th>\n",
       "      <th>bedrooms</th>\n",
       "      <th>bathrooms</th>\n",
       "      <th>sqft_living</th>\n",
       "      <th>sqft_lot</th>\n",
       "      <th>floors</th>\n",
       "      <th>waterfront</th>\n",
       "      <th>sqft_basement</th>\n",
       "      <th>yr_built</th>\n",
       "      <th>renovated</th>\n",
       "      <th>view_1</th>\n",
       "      <th>...</th>\n",
       "      <th>zipcode_98146</th>\n",
       "      <th>zipcode_98148</th>\n",
       "      <th>zipcode_98155</th>\n",
       "      <th>zipcode_98166</th>\n",
       "      <th>zipcode_98168</th>\n",
       "      <th>zipcode_98177</th>\n",
       "      <th>zipcode_98178</th>\n",
       "      <th>zipcode_98188</th>\n",
       "      <th>zipcode_98198</th>\n",
       "      <th>zipcode_98199</th>\n",
       "    </tr>\n",
       "  </thead>\n",
       "  <tbody>\n",
       "    <tr>\n",
       "      <th>167</th>\n",
       "      <td>0.676485</td>\n",
       "      <td>0.500221</td>\n",
       "      <td>0.653405</td>\n",
       "      <td>-0.256110</td>\n",
       "      <td>0.936506</td>\n",
       "      <td>-0.087173</td>\n",
       "      <td>-0.658681</td>\n",
       "      <td>0.953090</td>\n",
       "      <td>-0.210135</td>\n",
       "      <td>-0.124903</td>\n",
       "      <td>...</td>\n",
       "      <td>-0.116212</td>\n",
       "      <td>-0.051423</td>\n",
       "      <td>-0.145157</td>\n",
       "      <td>-0.10905</td>\n",
       "      <td>-0.112263</td>\n",
       "      <td>-0.109267</td>\n",
       "      <td>-0.110775</td>\n",
       "      <td>-0.079576</td>\n",
       "      <td>-0.114565</td>\n",
       "      <td>-0.122006</td>\n",
       "    </tr>\n",
       "    <tr>\n",
       "      <th>12412</th>\n",
       "      <td>0.676485</td>\n",
       "      <td>-0.473621</td>\n",
       "      <td>0.283204</td>\n",
       "      <td>-0.242083</td>\n",
       "      <td>-0.915427</td>\n",
       "      <td>-0.087173</td>\n",
       "      <td>1.985000</td>\n",
       "      <td>-1.600298</td>\n",
       "      <td>-0.210135</td>\n",
       "      <td>-0.124903</td>\n",
       "      <td>...</td>\n",
       "      <td>-0.116212</td>\n",
       "      <td>-0.051423</td>\n",
       "      <td>-0.145157</td>\n",
       "      <td>-0.10905</td>\n",
       "      <td>-0.112263</td>\n",
       "      <td>-0.109267</td>\n",
       "      <td>-0.110775</td>\n",
       "      <td>-0.079576</td>\n",
       "      <td>-0.114565</td>\n",
       "      <td>-0.122006</td>\n",
       "    </tr>\n",
       "    <tr>\n",
       "      <th>7691</th>\n",
       "      <td>0.676485</td>\n",
       "      <td>0.175607</td>\n",
       "      <td>0.119880</td>\n",
       "      <td>-0.146959</td>\n",
       "      <td>0.936506</td>\n",
       "      <td>-0.087173</td>\n",
       "      <td>-0.658681</td>\n",
       "      <td>0.238141</td>\n",
       "      <td>-0.210135</td>\n",
       "      <td>-0.124903</td>\n",
       "      <td>...</td>\n",
       "      <td>-0.116212</td>\n",
       "      <td>-0.051423</td>\n",
       "      <td>-0.145157</td>\n",
       "      <td>-0.10905</td>\n",
       "      <td>-0.112263</td>\n",
       "      <td>-0.109267</td>\n",
       "      <td>-0.110775</td>\n",
       "      <td>-0.079576</td>\n",
       "      <td>-0.114565</td>\n",
       "      <td>-0.122006</td>\n",
       "    </tr>\n",
       "    <tr>\n",
       "      <th>12460</th>\n",
       "      <td>-1.473959</td>\n",
       "      <td>-0.473621</td>\n",
       "      <td>0.196098</td>\n",
       "      <td>6.418588</td>\n",
       "      <td>0.936506</td>\n",
       "      <td>-0.087173</td>\n",
       "      <td>0.177355</td>\n",
       "      <td>1.157361</td>\n",
       "      <td>-0.210135</td>\n",
       "      <td>-0.124903</td>\n",
       "      <td>...</td>\n",
       "      <td>-0.116212</td>\n",
       "      <td>-0.051423</td>\n",
       "      <td>-0.145157</td>\n",
       "      <td>-0.10905</td>\n",
       "      <td>-0.112263</td>\n",
       "      <td>-0.109267</td>\n",
       "      <td>-0.110775</td>\n",
       "      <td>-0.079576</td>\n",
       "      <td>-0.114565</td>\n",
       "      <td>-0.122006</td>\n",
       "    </tr>\n",
       "    <tr>\n",
       "      <th>9099</th>\n",
       "      <td>0.676485</td>\n",
       "      <td>-0.473621</td>\n",
       "      <td>0.032774</td>\n",
       "      <td>6.050501</td>\n",
       "      <td>-0.915427</td>\n",
       "      <td>-0.087173</td>\n",
       "      <td>-0.658681</td>\n",
       "      <td>0.272187</td>\n",
       "      <td>-0.210135</td>\n",
       "      <td>-0.124903</td>\n",
       "      <td>...</td>\n",
       "      <td>-0.116212</td>\n",
       "      <td>-0.051423</td>\n",
       "      <td>-0.145157</td>\n",
       "      <td>-0.10905</td>\n",
       "      <td>-0.112263</td>\n",
       "      <td>-0.109267</td>\n",
       "      <td>-0.110775</td>\n",
       "      <td>-0.079576</td>\n",
       "      <td>-0.114565</td>\n",
       "      <td>-0.122006</td>\n",
       "    </tr>\n",
       "    <tr>\n",
       "      <th>...</th>\n",
       "      <td>...</td>\n",
       "      <td>...</td>\n",
       "      <td>...</td>\n",
       "      <td>...</td>\n",
       "      <td>...</td>\n",
       "      <td>...</td>\n",
       "      <td>...</td>\n",
       "      <td>...</td>\n",
       "      <td>...</td>\n",
       "      <td>...</td>\n",
       "      <td>...</td>\n",
       "      <td>...</td>\n",
       "      <td>...</td>\n",
       "      <td>...</td>\n",
       "      <td>...</td>\n",
       "      <td>...</td>\n",
       "      <td>...</td>\n",
       "      <td>...</td>\n",
       "      <td>...</td>\n",
       "      <td>...</td>\n",
       "      <td>...</td>\n",
       "    </tr>\n",
       "    <tr>\n",
       "      <th>11964</th>\n",
       "      <td>-0.398737</td>\n",
       "      <td>-0.798235</td>\n",
       "      <td>-1.175824</td>\n",
       "      <td>-0.197804</td>\n",
       "      <td>-0.915427</td>\n",
       "      <td>-0.087173</td>\n",
       "      <td>-0.658681</td>\n",
       "      <td>-0.817259</td>\n",
       "      <td>-0.210135</td>\n",
       "      <td>-0.124903</td>\n",
       "      <td>...</td>\n",
       "      <td>-0.116212</td>\n",
       "      <td>-0.051423</td>\n",
       "      <td>-0.145157</td>\n",
       "      <td>-0.10905</td>\n",
       "      <td>-0.112263</td>\n",
       "      <td>-0.109267</td>\n",
       "      <td>-0.110775</td>\n",
       "      <td>-0.079576</td>\n",
       "      <td>-0.114565</td>\n",
       "      <td>-0.122006</td>\n",
       "    </tr>\n",
       "    <tr>\n",
       "      <th>21575</th>\n",
       "      <td>-0.398737</td>\n",
       "      <td>0.500221</td>\n",
       "      <td>1.096558</td>\n",
       "      <td>-0.243966</td>\n",
       "      <td>0.936506</td>\n",
       "      <td>-0.087173</td>\n",
       "      <td>-0.658681</td>\n",
       "      <td>1.463768</td>\n",
       "      <td>-0.210135</td>\n",
       "      <td>-0.124903</td>\n",
       "      <td>...</td>\n",
       "      <td>-0.116212</td>\n",
       "      <td>-0.051423</td>\n",
       "      <td>-0.145157</td>\n",
       "      <td>-0.10905</td>\n",
       "      <td>-0.112263</td>\n",
       "      <td>-0.109267</td>\n",
       "      <td>-0.110775</td>\n",
       "      <td>-0.079576</td>\n",
       "      <td>-0.114565</td>\n",
       "      <td>-0.122006</td>\n",
       "    </tr>\n",
       "    <tr>\n",
       "      <th>5390</th>\n",
       "      <td>-0.398737</td>\n",
       "      <td>0.500221</td>\n",
       "      <td>0.043662</td>\n",
       "      <td>-0.249326</td>\n",
       "      <td>0.936506</td>\n",
       "      <td>-0.087173</td>\n",
       "      <td>-0.658681</td>\n",
       "      <td>1.123316</td>\n",
       "      <td>-0.210135</td>\n",
       "      <td>-0.124903</td>\n",
       "      <td>...</td>\n",
       "      <td>-0.116212</td>\n",
       "      <td>-0.051423</td>\n",
       "      <td>-0.145157</td>\n",
       "      <td>-0.10905</td>\n",
       "      <td>-0.112263</td>\n",
       "      <td>-0.109267</td>\n",
       "      <td>-0.110775</td>\n",
       "      <td>-0.079576</td>\n",
       "      <td>-0.114565</td>\n",
       "      <td>-0.122006</td>\n",
       "    </tr>\n",
       "    <tr>\n",
       "      <th>860</th>\n",
       "      <td>-2.549182</td>\n",
       "      <td>-1.772078</td>\n",
       "      <td>-1.850897</td>\n",
       "      <td>-0.002583</td>\n",
       "      <td>-0.915427</td>\n",
       "      <td>-0.087173</td>\n",
       "      <td>-0.658681</td>\n",
       "      <td>-0.272536</td>\n",
       "      <td>-0.210135</td>\n",
       "      <td>-0.124903</td>\n",
       "      <td>...</td>\n",
       "      <td>-0.116212</td>\n",
       "      <td>-0.051423</td>\n",
       "      <td>-0.145157</td>\n",
       "      <td>-0.10905</td>\n",
       "      <td>8.907622</td>\n",
       "      <td>-0.109267</td>\n",
       "      <td>-0.110775</td>\n",
       "      <td>-0.079576</td>\n",
       "      <td>-0.114565</td>\n",
       "      <td>-0.122006</td>\n",
       "    </tr>\n",
       "    <tr>\n",
       "      <th>15795</th>\n",
       "      <td>0.676485</td>\n",
       "      <td>0.500221</td>\n",
       "      <td>1.143377</td>\n",
       "      <td>-0.219895</td>\n",
       "      <td>0.936506</td>\n",
       "      <td>-0.087173</td>\n",
       "      <td>-0.658681</td>\n",
       "      <td>1.191407</td>\n",
       "      <td>-0.210135</td>\n",
       "      <td>-0.124903</td>\n",
       "      <td>...</td>\n",
       "      <td>-0.116212</td>\n",
       "      <td>-0.051423</td>\n",
       "      <td>-0.145157</td>\n",
       "      <td>-0.10905</td>\n",
       "      <td>-0.112263</td>\n",
       "      <td>-0.109267</td>\n",
       "      <td>-0.110775</td>\n",
       "      <td>-0.079576</td>\n",
       "      <td>-0.114565</td>\n",
       "      <td>-0.122006</td>\n",
       "    </tr>\n",
       "  </tbody>\n",
       "</table>\n",
       "<p>15129 rows × 97 columns</p>\n",
       "</div>"
      ],
      "text/plain": [
       "       bedrooms  bathrooms  sqft_living  sqft_lot    floors  waterfront  \\\n",
       "167    0.676485   0.500221     0.653405 -0.256110  0.936506   -0.087173   \n",
       "12412  0.676485  -0.473621     0.283204 -0.242083 -0.915427   -0.087173   \n",
       "7691   0.676485   0.175607     0.119880 -0.146959  0.936506   -0.087173   \n",
       "12460 -1.473959  -0.473621     0.196098  6.418588  0.936506   -0.087173   \n",
       "9099   0.676485  -0.473621     0.032774  6.050501 -0.915427   -0.087173   \n",
       "...         ...        ...          ...       ...       ...         ...   \n",
       "11964 -0.398737  -0.798235    -1.175824 -0.197804 -0.915427   -0.087173   \n",
       "21575 -0.398737   0.500221     1.096558 -0.243966  0.936506   -0.087173   \n",
       "5390  -0.398737   0.500221     0.043662 -0.249326  0.936506   -0.087173   \n",
       "860   -2.549182  -1.772078    -1.850897 -0.002583 -0.915427   -0.087173   \n",
       "15795  0.676485   0.500221     1.143377 -0.219895  0.936506   -0.087173   \n",
       "\n",
       "       sqft_basement  yr_built  renovated    view_1  ...  zipcode_98146  \\\n",
       "167        -0.658681  0.953090  -0.210135 -0.124903  ...      -0.116212   \n",
       "12412       1.985000 -1.600298  -0.210135 -0.124903  ...      -0.116212   \n",
       "7691       -0.658681  0.238141  -0.210135 -0.124903  ...      -0.116212   \n",
       "12460       0.177355  1.157361  -0.210135 -0.124903  ...      -0.116212   \n",
       "9099       -0.658681  0.272187  -0.210135 -0.124903  ...      -0.116212   \n",
       "...              ...       ...        ...       ...  ...            ...   \n",
       "11964      -0.658681 -0.817259  -0.210135 -0.124903  ...      -0.116212   \n",
       "21575      -0.658681  1.463768  -0.210135 -0.124903  ...      -0.116212   \n",
       "5390       -0.658681  1.123316  -0.210135 -0.124903  ...      -0.116212   \n",
       "860        -0.658681 -0.272536  -0.210135 -0.124903  ...      -0.116212   \n",
       "15795      -0.658681  1.191407  -0.210135 -0.124903  ...      -0.116212   \n",
       "\n",
       "       zipcode_98148  zipcode_98155  zipcode_98166  zipcode_98168  \\\n",
       "167        -0.051423      -0.145157       -0.10905      -0.112263   \n",
       "12412      -0.051423      -0.145157       -0.10905      -0.112263   \n",
       "7691       -0.051423      -0.145157       -0.10905      -0.112263   \n",
       "12460      -0.051423      -0.145157       -0.10905      -0.112263   \n",
       "9099       -0.051423      -0.145157       -0.10905      -0.112263   \n",
       "...              ...            ...            ...            ...   \n",
       "11964      -0.051423      -0.145157       -0.10905      -0.112263   \n",
       "21575      -0.051423      -0.145157       -0.10905      -0.112263   \n",
       "5390       -0.051423      -0.145157       -0.10905      -0.112263   \n",
       "860        -0.051423      -0.145157       -0.10905       8.907622   \n",
       "15795      -0.051423      -0.145157       -0.10905      -0.112263   \n",
       "\n",
       "       zipcode_98177  zipcode_98178  zipcode_98188  zipcode_98198  \\\n",
       "167        -0.109267      -0.110775      -0.079576      -0.114565   \n",
       "12412      -0.109267      -0.110775      -0.079576      -0.114565   \n",
       "7691       -0.109267      -0.110775      -0.079576      -0.114565   \n",
       "12460      -0.109267      -0.110775      -0.079576      -0.114565   \n",
       "9099       -0.109267      -0.110775      -0.079576      -0.114565   \n",
       "...              ...            ...            ...            ...   \n",
       "11964      -0.109267      -0.110775      -0.079576      -0.114565   \n",
       "21575      -0.109267      -0.110775      -0.079576      -0.114565   \n",
       "5390       -0.109267      -0.110775      -0.079576      -0.114565   \n",
       "860        -0.109267      -0.110775      -0.079576      -0.114565   \n",
       "15795      -0.109267      -0.110775      -0.079576      -0.114565   \n",
       "\n",
       "       zipcode_98199  \n",
       "167        -0.122006  \n",
       "12412      -0.122006  \n",
       "7691       -0.122006  \n",
       "12460      -0.122006  \n",
       "9099       -0.122006  \n",
       "...              ...  \n",
       "11964      -0.122006  \n",
       "21575      -0.122006  \n",
       "5390       -0.122006  \n",
       "860        -0.122006  \n",
       "15795      -0.122006  \n",
       "\n",
       "[15129 rows x 97 columns]"
      ]
     },
     "execution_count": 3,
     "metadata": {},
     "output_type": "execute_result"
    }
   ],
   "source": [
    "# Check loaded variables\n",
    "X_train"
   ]
  },
  {
   "cell_type": "code",
   "execution_count": 4,
   "id": "0bcd2cf5",
   "metadata": {},
   "outputs": [
    {
     "data": {
      "text/html": [
       "<div>\n",
       "<style scoped>\n",
       "    .dataframe tbody tr th:only-of-type {\n",
       "        vertical-align: middle;\n",
       "    }\n",
       "\n",
       "    .dataframe tbody tr th {\n",
       "        vertical-align: top;\n",
       "    }\n",
       "\n",
       "    .dataframe thead th {\n",
       "        text-align: right;\n",
       "    }\n",
       "</style>\n",
       "<table border=\"1\" class=\"dataframe\">\n",
       "  <thead>\n",
       "    <tr style=\"text-align: right;\">\n",
       "      <th></th>\n",
       "      <th>bedrooms</th>\n",
       "      <th>bathrooms</th>\n",
       "      <th>sqft_living</th>\n",
       "      <th>sqft_lot</th>\n",
       "      <th>floors</th>\n",
       "      <th>waterfront</th>\n",
       "      <th>sqft_basement</th>\n",
       "      <th>yr_built</th>\n",
       "      <th>renovated</th>\n",
       "      <th>view_1</th>\n",
       "      <th>...</th>\n",
       "      <th>zipcode_98146</th>\n",
       "      <th>zipcode_98148</th>\n",
       "      <th>zipcode_98155</th>\n",
       "      <th>zipcode_98166</th>\n",
       "      <th>zipcode_98168</th>\n",
       "      <th>zipcode_98177</th>\n",
       "      <th>zipcode_98178</th>\n",
       "      <th>zipcode_98188</th>\n",
       "      <th>zipcode_98198</th>\n",
       "      <th>zipcode_98199</th>\n",
       "    </tr>\n",
       "  </thead>\n",
       "  <tbody>\n",
       "    <tr>\n",
       "      <th>735</th>\n",
       "      <td>0.676485</td>\n",
       "      <td>0.175607</td>\n",
       "      <td>-0.010779</td>\n",
       "      <td>-0.150025</td>\n",
       "      <td>0.936506</td>\n",
       "      <td>-0.087173</td>\n",
       "      <td>-0.658681</td>\n",
       "      <td>0.510503</td>\n",
       "      <td>-0.210135</td>\n",
       "      <td>-0.124903</td>\n",
       "      <td>...</td>\n",
       "      <td>-0.116212</td>\n",
       "      <td>-0.051423</td>\n",
       "      <td>-0.145157</td>\n",
       "      <td>-0.10905</td>\n",
       "      <td>-0.112263</td>\n",
       "      <td>-0.109267</td>\n",
       "      <td>-0.110775</td>\n",
       "      <td>-0.079576</td>\n",
       "      <td>-0.114565</td>\n",
       "      <td>-0.122006</td>\n",
       "    </tr>\n",
       "    <tr>\n",
       "      <th>2830</th>\n",
       "      <td>1.751707</td>\n",
       "      <td>1.149449</td>\n",
       "      <td>0.892947</td>\n",
       "      <td>-0.202247</td>\n",
       "      <td>-0.915427</td>\n",
       "      <td>-0.087173</td>\n",
       "      <td>1.759044</td>\n",
       "      <td>0.204096</td>\n",
       "      <td>-0.210135</td>\n",
       "      <td>-0.124903</td>\n",
       "      <td>...</td>\n",
       "      <td>-0.116212</td>\n",
       "      <td>-0.051423</td>\n",
       "      <td>-0.145157</td>\n",
       "      <td>-0.10905</td>\n",
       "      <td>-0.112263</td>\n",
       "      <td>-0.109267</td>\n",
       "      <td>-0.110775</td>\n",
       "      <td>-0.079576</td>\n",
       "      <td>-0.114565</td>\n",
       "      <td>-0.122006</td>\n",
       "    </tr>\n",
       "    <tr>\n",
       "      <th>4106</th>\n",
       "      <td>0.676485</td>\n",
       "      <td>0.500221</td>\n",
       "      <td>1.840227</td>\n",
       "      <td>-0.101739</td>\n",
       "      <td>0.936506</td>\n",
       "      <td>-0.087173</td>\n",
       "      <td>-0.658681</td>\n",
       "      <td>0.885000</td>\n",
       "      <td>-0.210135</td>\n",
       "      <td>-0.124903</td>\n",
       "      <td>...</td>\n",
       "      <td>-0.116212</td>\n",
       "      <td>-0.051423</td>\n",
       "      <td>-0.145157</td>\n",
       "      <td>-0.10905</td>\n",
       "      <td>-0.112263</td>\n",
       "      <td>-0.109267</td>\n",
       "      <td>-0.110775</td>\n",
       "      <td>-0.079576</td>\n",
       "      <td>-0.114565</td>\n",
       "      <td>-0.122006</td>\n",
       "    </tr>\n",
       "    <tr>\n",
       "      <th>16218</th>\n",
       "      <td>-0.398737</td>\n",
       "      <td>1.798677</td>\n",
       "      <td>2.700400</td>\n",
       "      <td>-0.012047</td>\n",
       "      <td>0.936506</td>\n",
       "      <td>-0.087173</td>\n",
       "      <td>-0.658681</td>\n",
       "      <td>0.646684</td>\n",
       "      <td>-0.210135</td>\n",
       "      <td>-0.124903</td>\n",
       "      <td>...</td>\n",
       "      <td>-0.116212</td>\n",
       "      <td>-0.051423</td>\n",
       "      <td>-0.145157</td>\n",
       "      <td>-0.10905</td>\n",
       "      <td>-0.112263</td>\n",
       "      <td>-0.109267</td>\n",
       "      <td>-0.110775</td>\n",
       "      <td>-0.079576</td>\n",
       "      <td>-0.114565</td>\n",
       "      <td>-0.122006</td>\n",
       "    </tr>\n",
       "    <tr>\n",
       "      <th>19964</th>\n",
       "      <td>-0.398737</td>\n",
       "      <td>0.500221</td>\n",
       "      <td>0.511858</td>\n",
       "      <td>-0.234937</td>\n",
       "      <td>0.936506</td>\n",
       "      <td>-0.087173</td>\n",
       "      <td>-0.658681</td>\n",
       "      <td>1.123316</td>\n",
       "      <td>-0.210135</td>\n",
       "      <td>-0.124903</td>\n",
       "      <td>...</td>\n",
       "      <td>-0.116212</td>\n",
       "      <td>-0.051423</td>\n",
       "      <td>-0.145157</td>\n",
       "      <td>-0.10905</td>\n",
       "      <td>-0.112263</td>\n",
       "      <td>-0.109267</td>\n",
       "      <td>-0.110775</td>\n",
       "      <td>-0.079576</td>\n",
       "      <td>-0.114565</td>\n",
       "      <td>-0.122006</td>\n",
       "    </tr>\n",
       "    <tr>\n",
       "      <th>...</th>\n",
       "      <td>...</td>\n",
       "      <td>...</td>\n",
       "      <td>...</td>\n",
       "      <td>...</td>\n",
       "      <td>...</td>\n",
       "      <td>...</td>\n",
       "      <td>...</td>\n",
       "      <td>...</td>\n",
       "      <td>...</td>\n",
       "      <td>...</td>\n",
       "      <td>...</td>\n",
       "      <td>...</td>\n",
       "      <td>...</td>\n",
       "      <td>...</td>\n",
       "      <td>...</td>\n",
       "      <td>...</td>\n",
       "      <td>...</td>\n",
       "      <td>...</td>\n",
       "      <td>...</td>\n",
       "      <td>...</td>\n",
       "      <td>...</td>\n",
       "    </tr>\n",
       "    <tr>\n",
       "      <th>12606</th>\n",
       "      <td>-0.398737</td>\n",
       "      <td>0.500221</td>\n",
       "      <td>0.141657</td>\n",
       "      <td>-0.195728</td>\n",
       "      <td>0.936506</td>\n",
       "      <td>-0.087173</td>\n",
       "      <td>-0.658681</td>\n",
       "      <td>0.476458</td>\n",
       "      <td>-0.210135</td>\n",
       "      <td>-0.124903</td>\n",
       "      <td>...</td>\n",
       "      <td>-0.116212</td>\n",
       "      <td>-0.051423</td>\n",
       "      <td>-0.145157</td>\n",
       "      <td>-0.10905</td>\n",
       "      <td>-0.112263</td>\n",
       "      <td>-0.109267</td>\n",
       "      <td>-0.110775</td>\n",
       "      <td>-0.079576</td>\n",
       "      <td>-0.114565</td>\n",
       "      <td>-0.122006</td>\n",
       "    </tr>\n",
       "    <tr>\n",
       "      <th>14393</th>\n",
       "      <td>-0.398737</td>\n",
       "      <td>-0.149007</td>\n",
       "      <td>-0.293874</td>\n",
       "      <td>-0.256086</td>\n",
       "      <td>-0.915427</td>\n",
       "      <td>-0.087173</td>\n",
       "      <td>1.216751</td>\n",
       "      <td>-2.213112</td>\n",
       "      <td>-0.210135</td>\n",
       "      <td>-0.124903</td>\n",
       "      <td>...</td>\n",
       "      <td>-0.116212</td>\n",
       "      <td>-0.051423</td>\n",
       "      <td>-0.145157</td>\n",
       "      <td>-0.10905</td>\n",
       "      <td>-0.112263</td>\n",
       "      <td>-0.109267</td>\n",
       "      <td>-0.110775</td>\n",
       "      <td>-0.079576</td>\n",
       "      <td>-0.114565</td>\n",
       "      <td>-0.122006</td>\n",
       "    </tr>\n",
       "    <tr>\n",
       "      <th>6899</th>\n",
       "      <td>-0.398737</td>\n",
       "      <td>-1.447464</td>\n",
       "      <td>-1.012500</td>\n",
       "      <td>-0.200557</td>\n",
       "      <td>-0.915427</td>\n",
       "      <td>-0.087173</td>\n",
       "      <td>-0.658681</td>\n",
       "      <td>-0.578943</td>\n",
       "      <td>-0.210135</td>\n",
       "      <td>-0.124903</td>\n",
       "      <td>...</td>\n",
       "      <td>-0.116212</td>\n",
       "      <td>-0.051423</td>\n",
       "      <td>-0.145157</td>\n",
       "      <td>-0.10905</td>\n",
       "      <td>-0.112263</td>\n",
       "      <td>-0.109267</td>\n",
       "      <td>-0.110775</td>\n",
       "      <td>-0.079576</td>\n",
       "      <td>-0.114565</td>\n",
       "      <td>-0.122006</td>\n",
       "    </tr>\n",
       "    <tr>\n",
       "      <th>85</th>\n",
       "      <td>-0.398737</td>\n",
       "      <td>-0.798235</td>\n",
       "      <td>0.065439</td>\n",
       "      <td>-0.277815</td>\n",
       "      <td>0.936506</td>\n",
       "      <td>-0.087173</td>\n",
       "      <td>-0.116388</td>\n",
       "      <td>-1.566253</td>\n",
       "      <td>-0.210135</td>\n",
       "      <td>-0.124903</td>\n",
       "      <td>...</td>\n",
       "      <td>-0.116212</td>\n",
       "      <td>-0.051423</td>\n",
       "      <td>-0.145157</td>\n",
       "      <td>-0.10905</td>\n",
       "      <td>-0.112263</td>\n",
       "      <td>-0.109267</td>\n",
       "      <td>-0.110775</td>\n",
       "      <td>-0.079576</td>\n",
       "      <td>-0.114565</td>\n",
       "      <td>-0.122006</td>\n",
       "    </tr>\n",
       "    <tr>\n",
       "      <th>21363</th>\n",
       "      <td>0.676485</td>\n",
       "      <td>0.175607</td>\n",
       "      <td>0.468305</td>\n",
       "      <td>-0.265985</td>\n",
       "      <td>0.936506</td>\n",
       "      <td>-0.087173</td>\n",
       "      <td>0.855222</td>\n",
       "      <td>1.395678</td>\n",
       "      <td>-0.210135</td>\n",
       "      <td>-0.124903</td>\n",
       "      <td>...</td>\n",
       "      <td>-0.116212</td>\n",
       "      <td>-0.051423</td>\n",
       "      <td>-0.145157</td>\n",
       "      <td>-0.10905</td>\n",
       "      <td>-0.112263</td>\n",
       "      <td>-0.109267</td>\n",
       "      <td>-0.110775</td>\n",
       "      <td>-0.079576</td>\n",
       "      <td>-0.114565</td>\n",
       "      <td>-0.122006</td>\n",
       "    </tr>\n",
       "  </tbody>\n",
       "</table>\n",
       "<p>6484 rows × 97 columns</p>\n",
       "</div>"
      ],
      "text/plain": [
       "       bedrooms  bathrooms  sqft_living  sqft_lot    floors  waterfront  \\\n",
       "735    0.676485   0.175607    -0.010779 -0.150025  0.936506   -0.087173   \n",
       "2830   1.751707   1.149449     0.892947 -0.202247 -0.915427   -0.087173   \n",
       "4106   0.676485   0.500221     1.840227 -0.101739  0.936506   -0.087173   \n",
       "16218 -0.398737   1.798677     2.700400 -0.012047  0.936506   -0.087173   \n",
       "19964 -0.398737   0.500221     0.511858 -0.234937  0.936506   -0.087173   \n",
       "...         ...        ...          ...       ...       ...         ...   \n",
       "12606 -0.398737   0.500221     0.141657 -0.195728  0.936506   -0.087173   \n",
       "14393 -0.398737  -0.149007    -0.293874 -0.256086 -0.915427   -0.087173   \n",
       "6899  -0.398737  -1.447464    -1.012500 -0.200557 -0.915427   -0.087173   \n",
       "85    -0.398737  -0.798235     0.065439 -0.277815  0.936506   -0.087173   \n",
       "21363  0.676485   0.175607     0.468305 -0.265985  0.936506   -0.087173   \n",
       "\n",
       "       sqft_basement  yr_built  renovated    view_1  ...  zipcode_98146  \\\n",
       "735        -0.658681  0.510503  -0.210135 -0.124903  ...      -0.116212   \n",
       "2830        1.759044  0.204096  -0.210135 -0.124903  ...      -0.116212   \n",
       "4106       -0.658681  0.885000  -0.210135 -0.124903  ...      -0.116212   \n",
       "16218      -0.658681  0.646684  -0.210135 -0.124903  ...      -0.116212   \n",
       "19964      -0.658681  1.123316  -0.210135 -0.124903  ...      -0.116212   \n",
       "...              ...       ...        ...       ...  ...            ...   \n",
       "12606      -0.658681  0.476458  -0.210135 -0.124903  ...      -0.116212   \n",
       "14393       1.216751 -2.213112  -0.210135 -0.124903  ...      -0.116212   \n",
       "6899       -0.658681 -0.578943  -0.210135 -0.124903  ...      -0.116212   \n",
       "85         -0.116388 -1.566253  -0.210135 -0.124903  ...      -0.116212   \n",
       "21363       0.855222  1.395678  -0.210135 -0.124903  ...      -0.116212   \n",
       "\n",
       "       zipcode_98148  zipcode_98155  zipcode_98166  zipcode_98168  \\\n",
       "735        -0.051423      -0.145157       -0.10905      -0.112263   \n",
       "2830       -0.051423      -0.145157       -0.10905      -0.112263   \n",
       "4106       -0.051423      -0.145157       -0.10905      -0.112263   \n",
       "16218      -0.051423      -0.145157       -0.10905      -0.112263   \n",
       "19964      -0.051423      -0.145157       -0.10905      -0.112263   \n",
       "...              ...            ...            ...            ...   \n",
       "12606      -0.051423      -0.145157       -0.10905      -0.112263   \n",
       "14393      -0.051423      -0.145157       -0.10905      -0.112263   \n",
       "6899       -0.051423      -0.145157       -0.10905      -0.112263   \n",
       "85         -0.051423      -0.145157       -0.10905      -0.112263   \n",
       "21363      -0.051423      -0.145157       -0.10905      -0.112263   \n",
       "\n",
       "       zipcode_98177  zipcode_98178  zipcode_98188  zipcode_98198  \\\n",
       "735        -0.109267      -0.110775      -0.079576      -0.114565   \n",
       "2830       -0.109267      -0.110775      -0.079576      -0.114565   \n",
       "4106       -0.109267      -0.110775      -0.079576      -0.114565   \n",
       "16218      -0.109267      -0.110775      -0.079576      -0.114565   \n",
       "19964      -0.109267      -0.110775      -0.079576      -0.114565   \n",
       "...              ...            ...            ...            ...   \n",
       "12606      -0.109267      -0.110775      -0.079576      -0.114565   \n",
       "14393      -0.109267      -0.110775      -0.079576      -0.114565   \n",
       "6899       -0.109267      -0.110775      -0.079576      -0.114565   \n",
       "85         -0.109267      -0.110775      -0.079576      -0.114565   \n",
       "21363      -0.109267      -0.110775      -0.079576      -0.114565   \n",
       "\n",
       "       zipcode_98199  \n",
       "735        -0.122006  \n",
       "2830       -0.122006  \n",
       "4106       -0.122006  \n",
       "16218      -0.122006  \n",
       "19964      -0.122006  \n",
       "...              ...  \n",
       "12606      -0.122006  \n",
       "14393      -0.122006  \n",
       "6899       -0.122006  \n",
       "85         -0.122006  \n",
       "21363      -0.122006  \n",
       "\n",
       "[6484 rows x 97 columns]"
      ]
     },
     "execution_count": 4,
     "metadata": {},
     "output_type": "execute_result"
    }
   ],
   "source": [
    "X_test"
   ]
  },
  {
   "cell_type": "code",
   "execution_count": 5,
   "id": "20bc5d16",
   "metadata": {},
   "outputs": [
    {
     "data": {
      "text/html": [
       "<div>\n",
       "<style scoped>\n",
       "    .dataframe tbody tr th:only-of-type {\n",
       "        vertical-align: middle;\n",
       "    }\n",
       "\n",
       "    .dataframe tbody tr th {\n",
       "        vertical-align: top;\n",
       "    }\n",
       "\n",
       "    .dataframe thead th {\n",
       "        text-align: right;\n",
       "    }\n",
       "</style>\n",
       "<table border=\"1\" class=\"dataframe\">\n",
       "  <thead>\n",
       "    <tr style=\"text-align: right;\">\n",
       "      <th></th>\n",
       "      <th>price</th>\n",
       "    </tr>\n",
       "  </thead>\n",
       "  <tbody>\n",
       "    <tr>\n",
       "      <th>167</th>\n",
       "      <td>807100.0</td>\n",
       "    </tr>\n",
       "    <tr>\n",
       "      <th>12412</th>\n",
       "      <td>570000.0</td>\n",
       "    </tr>\n",
       "    <tr>\n",
       "      <th>7691</th>\n",
       "      <td>320000.0</td>\n",
       "    </tr>\n",
       "    <tr>\n",
       "      <th>12460</th>\n",
       "      <td>649000.0</td>\n",
       "    </tr>\n",
       "    <tr>\n",
       "      <th>9099</th>\n",
       "      <td>568000.0</td>\n",
       "    </tr>\n",
       "    <tr>\n",
       "      <th>...</th>\n",
       "      <td>...</td>\n",
       "    </tr>\n",
       "    <tr>\n",
       "      <th>11964</th>\n",
       "      <td>378000.0</td>\n",
       "    </tr>\n",
       "    <tr>\n",
       "      <th>21575</th>\n",
       "      <td>399950.0</td>\n",
       "    </tr>\n",
       "    <tr>\n",
       "      <th>5390</th>\n",
       "      <td>575000.0</td>\n",
       "    </tr>\n",
       "    <tr>\n",
       "      <th>860</th>\n",
       "      <td>245000.0</td>\n",
       "    </tr>\n",
       "    <tr>\n",
       "      <th>15795</th>\n",
       "      <td>315000.0</td>\n",
       "    </tr>\n",
       "  </tbody>\n",
       "</table>\n",
       "<p>15129 rows × 1 columns</p>\n",
       "</div>"
      ],
      "text/plain": [
       "          price\n",
       "167    807100.0\n",
       "12412  570000.0\n",
       "7691   320000.0\n",
       "12460  649000.0\n",
       "9099   568000.0\n",
       "...         ...\n",
       "11964  378000.0\n",
       "21575  399950.0\n",
       "5390   575000.0\n",
       "860    245000.0\n",
       "15795  315000.0\n",
       "\n",
       "[15129 rows x 1 columns]"
      ]
     },
     "execution_count": 5,
     "metadata": {},
     "output_type": "execute_result"
    }
   ],
   "source": [
    "y_train"
   ]
  },
  {
   "cell_type": "code",
   "execution_count": 6,
   "id": "1c0cdf53",
   "metadata": {},
   "outputs": [
    {
     "data": {
      "text/html": [
       "<div>\n",
       "<style scoped>\n",
       "    .dataframe tbody tr th:only-of-type {\n",
       "        vertical-align: middle;\n",
       "    }\n",
       "\n",
       "    .dataframe tbody tr th {\n",
       "        vertical-align: top;\n",
       "    }\n",
       "\n",
       "    .dataframe thead th {\n",
       "        text-align: right;\n",
       "    }\n",
       "</style>\n",
       "<table border=\"1\" class=\"dataframe\">\n",
       "  <thead>\n",
       "    <tr style=\"text-align: right;\">\n",
       "      <th></th>\n",
       "      <th>price</th>\n",
       "    </tr>\n",
       "  </thead>\n",
       "  <tbody>\n",
       "    <tr>\n",
       "      <th>735</th>\n",
       "      <td>365000.0</td>\n",
       "    </tr>\n",
       "    <tr>\n",
       "      <th>2830</th>\n",
       "      <td>865000.0</td>\n",
       "    </tr>\n",
       "    <tr>\n",
       "      <th>4106</th>\n",
       "      <td>1038000.0</td>\n",
       "    </tr>\n",
       "    <tr>\n",
       "      <th>16218</th>\n",
       "      <td>1490000.0</td>\n",
       "    </tr>\n",
       "    <tr>\n",
       "      <th>19964</th>\n",
       "      <td>711000.0</td>\n",
       "    </tr>\n",
       "    <tr>\n",
       "      <th>...</th>\n",
       "      <td>...</td>\n",
       "    </tr>\n",
       "    <tr>\n",
       "      <th>12606</th>\n",
       "      <td>412000.0</td>\n",
       "    </tr>\n",
       "    <tr>\n",
       "      <th>14393</th>\n",
       "      <td>760000.0</td>\n",
       "    </tr>\n",
       "    <tr>\n",
       "      <th>6899</th>\n",
       "      <td>410500.0</td>\n",
       "    </tr>\n",
       "    <tr>\n",
       "      <th>85</th>\n",
       "      <td>940000.0</td>\n",
       "    </tr>\n",
       "    <tr>\n",
       "      <th>21363</th>\n",
       "      <td>410000.0</td>\n",
       "    </tr>\n",
       "  </tbody>\n",
       "</table>\n",
       "<p>6484 rows × 1 columns</p>\n",
       "</div>"
      ],
      "text/plain": [
       "           price\n",
       "735     365000.0\n",
       "2830    865000.0\n",
       "4106   1038000.0\n",
       "16218  1490000.0\n",
       "19964   711000.0\n",
       "...          ...\n",
       "12606   412000.0\n",
       "14393   760000.0\n",
       "6899    410500.0\n",
       "85      940000.0\n",
       "21363   410000.0\n",
       "\n",
       "[6484 rows x 1 columns]"
      ]
     },
     "execution_count": 6,
     "metadata": {},
     "output_type": "execute_result"
    }
   ],
   "source": [
    "y_test"
   ]
  },
  {
   "cell_type": "code",
   "execution_count": 7,
   "id": "55e88206",
   "metadata": {},
   "outputs": [
    {
     "name": "stdout",
     "output_type": "stream",
     "text": [
      "(15129, 97)\n",
      "(15129, 1)\n",
      "(6484, 97)\n",
      "(6484, 1)\n"
     ]
    }
   ],
   "source": [
    "# Check shape of variables\n",
    "print(X_train.shape)\n",
    "print(y_train.shape)\n",
    "print(X_test.shape)\n",
    "print(y_test.shape)"
   ]
  },
  {
   "cell_type": "markdown",
   "id": "4583e9b8",
   "metadata": {},
   "source": [
    "## Regression Modeling"
   ]
  },
  {
   "cell_type": "markdown",
   "id": "b3ac6abd",
   "metadata": {},
   "source": [
    "### Initial Model Comparison"
   ]
  },
  {
   "cell_type": "code",
   "execution_count": 8,
   "id": "435cdc96",
   "metadata": {},
   "outputs": [],
   "source": [
    "# Instantiate models\n",
    "\n",
    "# Simple Linear Regression (sqft_living vs. price)\n",
    "lr1 = LinearRegression()\n",
    "\n",
    "# Multiple Linear Regression\n",
    "lr2 = LinearRegression()\n",
    "\n",
    "# Ridge Regression\n",
    "ridge = Ridge()\n",
    "\n",
    "# Random Forest Regression\n",
    "rf = RandomForestRegressor()"
   ]
  },
  {
   "cell_type": "markdown",
   "id": "a5c6a17d",
   "metadata": {},
   "source": [
    "### Cross validate training data for each model"
   ]
  },
  {
   "cell_type": "code",
   "execution_count": 9,
   "id": "2280c2f2",
   "metadata": {},
   "outputs": [],
   "source": [
    "# Cross Validation\n",
    "scoring = 'neg_root_mean_squared_error'\n",
    "score_lr1 = cross_validate(lr1, np.array(X_train['sqft_living']).reshape(-1,1), y_train, cv=10, scoring=scoring, return_estimator=True)\n",
    "score_lr2 = cross_validate(lr2, X_train, y_train, cv=10, scoring=scoring, return_estimator=True)\n",
    "score_ridge = cross_validate(ridge, X_train, y_train, cv=10, scoring=scoring, return_estimator=True)\n",
    "score_rf = cross_validate(rf, X_train, np.ravel(y_train), cv=10, scoring=scoring, return_estimator=True)"
   ]
  },
  {
   "cell_type": "code",
   "execution_count": 10,
   "id": "a885f45e",
   "metadata": {},
   "outputs": [
    {
     "name": "stdout",
     "output_type": "stream",
     "text": [
      "Simple Linear Regression Score:   -255984\n",
      "Multiple Linear Regression Score: -148509\n",
      "Ridge Regression Score:           -148506\n",
      "Random Forest Regression Score:   -148539\n"
     ]
    }
   ],
   "source": [
    "# Cross validation model scores\n",
    "print('Simple Linear Regression Score:  ', round(score_lr1['test_score'].mean()))\n",
    "print('Multiple Linear Regression Score:', round(score_lr2['test_score'].mean()))\n",
    "print('Ridge Regression Score:          ', round(score_ridge['test_score'].mean()))\n",
    "print('Random Forest Regression Score:  ', round(score_rf['test_score'].mean()))"
   ]
  },
  {
   "cell_type": "markdown",
   "id": "7df864fa",
   "metadata": {},
   "source": [
    "**When comparing training set cross validation scores, simple linear regression performs the worst, while multiple linear regression, ridge regression, and random forest regression perform much better and similar to one another.**"
   ]
  },
  {
   "cell_type": "markdown",
   "id": "b1dd211f",
   "metadata": {},
   "source": [
    "### Simple Linear Model"
   ]
  },
  {
   "cell_type": "markdown",
   "id": "685d2a6f",
   "metadata": {},
   "source": [
    "**sqft_living is the feature with the highest correlation with price. A simple linear regression model of these two variables will be used as a baseline model.**"
   ]
  },
  {
   "cell_type": "code",
   "execution_count": 11,
   "id": "eab6d770",
   "metadata": {},
   "outputs": [],
   "source": [
    "# Fit simple linear regression model (sqft_living vs. price)\n",
    "lr1.fit(np.array(X_train['sqft_living']).reshape(-1,1), y_train)\n",
    "\n",
    "# Generate predictions\n",
    "y_pred_lr1 = lr1.predict(np.array(X_test['sqft_living']).reshape(-1,1))"
   ]
  },
  {
   "cell_type": "code",
   "execution_count": 12,
   "id": "9beb41b8",
   "metadata": {},
   "outputs": [
    {
     "name": "stdout",
     "output_type": "stream",
     "text": [
      "Test set R2 score:           0.48388319\n",
      "Test set RMSE:               272965\n",
      "Mean cross validation RMSE:  255984\n"
     ]
    }
   ],
   "source": [
    "# Print R2 score and root mean square errors for cross validation and test set\n",
    "r2_score_lr1 = round(r2_score(y_test, y_pred_lr1), 8)\n",
    "rmse_test_score_lr1 = round(mean_squared_error(y_test, y_pred_lr1, squared=False))\n",
    "rmse_train_score_lr1 = round(-score_lr1[\"test_score\"].mean())\n",
    "\n",
    "print(\"Test set R2 score:          \", r2_score_lr1)\n",
    "print(\"Test set RMSE:              \", rmse_test_score_lr1)\n",
    "print(\"Mean cross validation RMSE: \", rmse_train_score_lr1)"
   ]
  },
  {
   "cell_type": "code",
   "execution_count": 13,
   "id": "55cee22d",
   "metadata": {},
   "outputs": [
    {
     "data": {
      "image/png": "[encoded data removed]",
      "text/plain": [
       "<Figure size 1080x576 with 1 Axes>"
      ]
     },
     "metadata": {
      "needs_background": "light"
     },
     "output_type": "display_data"
    }
   ],
   "source": [
    "# Plot predictions\n",
    "fig, ax = plt.subplots(figsize=(15,8))\n",
    "_ = plt.scatter(y_test, y_pred_lr1)\n",
    "\n",
    "# Add a line for perfect correlation\n",
    "plt.plot([x for x in range(0,5000000)],[x for x in range(0,5000000)], color='red')\n",
    "\n",
    "# Add labels and title\n",
    "_ = plt.xlabel('Test values')\n",
    "_ = plt.ylabel('Predicted values')\n",
    "_ = plt.title('Simple Linear Regression Model Test values vs. Predicted values')"
   ]
  },
  {
   "cell_type": "markdown",
   "id": "51016c53",
   "metadata": {},
   "source": [
    "**The fit of this model is not exceptional. More features are needed for better prediction.**"
   ]
  },
  {
   "cell_type": "markdown",
   "id": "3455a368",
   "metadata": {},
   "source": [
    "### Multiple Linear Regression Model"
   ]
  },
  {
   "cell_type": "markdown",
   "id": "01dd3db5",
   "metadata": {},
   "source": [
    "**The remaining models will be regressed on the following features against price:**"
   ]
  },
  {
   "cell_type": "code",
   "execution_count": 14,
   "id": "20706f9e",
   "metadata": {},
   "outputs": [
    {
     "data": {
      "text/plain": [
       "Index(['bedrooms', 'bathrooms', 'sqft_living', 'sqft_lot', 'floors',\n",
       "       'waterfront', 'sqft_basement', 'yr_built', 'renovated', 'view_1',\n",
       "       'view_2', 'view_3', 'view_4', 'condition_2', 'condition_3',\n",
       "       'condition_4', 'condition_5', 'grade_3', 'grade_4', 'grade_5',\n",
       "       'grade_6', 'grade_7', 'grade_8', 'grade_9', 'grade_10', 'grade_11',\n",
       "       'grade_12', 'grade_13', 'zipcode_98002', 'zipcode_98003',\n",
       "       'zipcode_98004', 'zipcode_98005', 'zipcode_98006', 'zipcode_98007',\n",
       "       'zipcode_98008', 'zipcode_98010', 'zipcode_98011', 'zipcode_98014',\n",
       "       'zipcode_98019', 'zipcode_98022', 'zipcode_98023', 'zipcode_98024',\n",
       "       'zipcode_98027', 'zipcode_98028', 'zipcode_98029', 'zipcode_98030',\n",
       "       'zipcode_98031', 'zipcode_98032', 'zipcode_98033', 'zipcode_98034',\n",
       "       'zipcode_98038', 'zipcode_98039', 'zipcode_98040', 'zipcode_98042',\n",
       "       'zipcode_98045', 'zipcode_98052', 'zipcode_98053', 'zipcode_98055',\n",
       "       'zipcode_98056', 'zipcode_98058', 'zipcode_98059', 'zipcode_98065',\n",
       "       'zipcode_98070', 'zipcode_98072', 'zipcode_98074', 'zipcode_98075',\n",
       "       'zipcode_98077', 'zipcode_98092', 'zipcode_98102', 'zipcode_98103',\n",
       "       'zipcode_98105', 'zipcode_98106', 'zipcode_98107', 'zipcode_98108',\n",
       "       'zipcode_98109', 'zipcode_98112', 'zipcode_98115', 'zipcode_98116',\n",
       "       'zipcode_98117', 'zipcode_98118', 'zipcode_98119', 'zipcode_98122',\n",
       "       'zipcode_98125', 'zipcode_98126', 'zipcode_98133', 'zipcode_98136',\n",
       "       'zipcode_98144', 'zipcode_98146', 'zipcode_98148', 'zipcode_98155',\n",
       "       'zipcode_98166', 'zipcode_98168', 'zipcode_98177', 'zipcode_98178',\n",
       "       'zipcode_98188', 'zipcode_98198', 'zipcode_98199'],\n",
       "      dtype='object')"
      ]
     },
     "execution_count": 14,
     "metadata": {},
     "output_type": "execute_result"
    }
   ],
   "source": [
    "X_train.columns"
   ]
  },
  {
   "cell_type": "code",
   "execution_count": 15,
   "id": "4a14787c",
   "metadata": {},
   "outputs": [],
   "source": [
    "# Fit multiple linear regression model\n",
    "lr2.fit(X_train, y_train)\n",
    "\n",
    "# Generate predictions\n",
    "y_pred_lr2 = lr2.predict(X_test)"
   ]
  },
  {
   "cell_type": "code",
   "execution_count": 16,
   "id": "47019f72",
   "metadata": {},
   "outputs": [
    {
     "name": "stdout",
     "output_type": "stream",
     "text": [
      "Test set R2 score:           0.83290838\n",
      "Test set RMSE:               155314\n",
      "Mean cross validation RMSE:  148509\n"
     ]
    }
   ],
   "source": [
    "# Print R2 score and root mean square errors for cross validation and test set\n",
    "r2_score_lr2 = round(r2_score(y_test, y_pred_lr2), 8)\n",
    "rmse_test_score_lr2 = round(mean_squared_error(y_test, y_pred_lr2, squared=False))\n",
    "rmse_train_score_lr2 = round(-score_lr2[\"test_score\"].mean())\n",
    "\n",
    "print(\"Test set R2 score:          \", r2_score_lr2)\n",
    "print(\"Test set RMSE:              \", rmse_test_score_lr2)\n",
    "print(\"Mean cross validation RMSE: \", rmse_train_score_lr2)"
   ]
  },
  {
   "cell_type": "markdown",
   "id": "8e829d77",
   "metadata": {},
   "source": [
    "**The R2 score and root mean square errors are improved significantly from the simple linear model.**"
   ]
  },
  {
   "cell_type": "code",
   "execution_count": 17,
   "id": "dc10b6f5",
   "metadata": {},
   "outputs": [
    {
     "data": {
      "image/png": "[encoded data removed]",
      "text/plain": [
       "<Figure size 1080x576 with 1 Axes>"
      ]
     },
     "metadata": {
      "needs_background": "light"
     },
     "output_type": "display_data"
    }
   ],
   "source": [
    "# Plot predictions\n",
    "fig, ax = plt.subplots(figsize=(15,8))\n",
    "_ = plt.scatter(y_test, y_pred_lr2)\n",
    "\n",
    "# Add a line for perfect correlation\n",
    "plt.plot([x for x in range(0,5000000)],[x for x in range(0,5000000)], color='red')\n",
    "\n",
    "# Add labels and title\n",
    "_ = plt.xlabel('Test values')\n",
    "_ = plt.ylabel('Predicted values')\n",
    "_ = plt.title('Multiple Linear Regression Model Test values vs. Predicted values')"
   ]
  },
  {
   "cell_type": "markdown",
   "id": "b91930b4",
   "metadata": {},
   "source": [
    "**The multiple linear regression model predictions are much better than the simple linear regression model. The best performance of the model is at lower values of the target variable, where most of the data is clustered.**  "
   ]
  },
  {
   "cell_type": "markdown",
   "id": "8acd8be7",
   "metadata": {},
   "source": [
    "### Ridge Regression Model"
   ]
  },
  {
   "cell_type": "code",
   "execution_count": 18,
   "id": "17c13259",
   "metadata": {},
   "outputs": [],
   "source": [
    "# Fit ridge regression model\n",
    "ridge.fit(X_train, y_train)\n",
    "\n",
    "# Generate predictions\n",
    "y_pred_ridge = ridge.predict(X_test)"
   ]
  },
  {
   "cell_type": "code",
   "execution_count": 19,
   "id": "2b204025",
   "metadata": {},
   "outputs": [
    {
     "name": "stdout",
     "output_type": "stream",
     "text": [
      "Test set R2 score:           0.83290777\n",
      "Test set RMSE:               155314\n",
      "Mean cross validation RMSE:  148506\n"
     ]
    }
   ],
   "source": [
    "# Print R2 score and root mean square errors for cross validation and test set\n",
    "r2_score_ridge = round(r2_score(y_test, y_pred_ridge), 8)\n",
    "rmse_test_score_ridge = round(mean_squared_error(y_test, y_pred_ridge, squared=False))\n",
    "rmse_train_score_ridge = round(-score_ridge[\"test_score\"].mean())\n",
    "\n",
    "print(\"Test set R2 score:          \", r2_score_ridge)\n",
    "print(\"Test set RMSE:              \", rmse_test_score_ridge)\n",
    "print(\"Mean cross validation RMSE: \", rmse_train_score_ridge)"
   ]
  },
  {
   "cell_type": "markdown",
   "id": "259a68ae",
   "metadata": {},
   "source": [
    "**The ridge regression model performs nearly identically to the multiple linear regression model. Perhaps hyperparameter tuning will adjust the performance.**"
   ]
  },
  {
   "cell_type": "code",
   "execution_count": 20,
   "id": "98c87156",
   "metadata": {},
   "outputs": [
    {
     "data": {
      "image/png": "[encoded data removed]",
      "text/plain": [
       "<Figure size 1080x576 with 1 Axes>"
      ]
     },
     "metadata": {
      "needs_background": "light"
     },
     "output_type": "display_data"
    }
   ],
   "source": [
    "# Plot predictions\n",
    "fig, ax = plt.subplots(figsize=(15,8))\n",
    "_ = plt.scatter(y_test, y_pred_ridge)\n",
    "\n",
    "# Add a line for perfect correlation\n",
    "plt.plot([x for x in range(0,5000000)],[x for x in range(0,5000000)], color='red')\n",
    "\n",
    "# Add labels and title\n",
    "_ = plt.xlabel('Test values')\n",
    "_ = plt.ylabel('Predicted values')\n",
    "_ = plt.title('Ridge Regression Model Test values vs. Predicted values')"
   ]
  },
  {
   "cell_type": "markdown",
   "id": "e3c70bba",
   "metadata": {},
   "source": [
    "### Random Forest Regression Model"
   ]
  },
  {
   "cell_type": "code",
   "execution_count": 21,
   "id": "5d3ed8b1",
   "metadata": {},
   "outputs": [],
   "source": [
    "# Fit random forest regression model\n",
    "rf.fit(X_train, np.ravel(y_train))\n",
    "\n",
    "# Generate predictions\n",
    "y_pred_rf = rf.predict(X_test)"
   ]
  },
  {
   "cell_type": "code",
   "execution_count": 22,
   "id": "ca765a49",
   "metadata": {},
   "outputs": [
    {
     "name": "stdout",
     "output_type": "stream",
     "text": [
      "Test set R2 score:           0.80106538\n",
      "Test set RMSE:               169468\n",
      "Mean cross validation RMSE:  148539\n"
     ]
    }
   ],
   "source": [
    "# Print R2 score and root mean square errors for cross validation and test set\n",
    "r2_score_rf = round(r2_score(y_test, y_pred_rf), 8)\n",
    "rmse_test_score_rf = round(mean_squared_error(y_test, y_pred_rf, squared=False))\n",
    "rmse_train_score_rf = round(-score_rf[\"test_score\"].mean())\n",
    "\n",
    "print(\"Test set R2 score:          \", r2_score_rf)\n",
    "print(\"Test set RMSE:              \", rmse_test_score_rf)\n",
    "print(\"Mean cross validation RMSE: \", rmse_train_score_rf)"
   ]
  },
  {
   "cell_type": "markdown",
   "id": "35bb8722",
   "metadata": {},
   "source": [
    "**The random forest regression model is worse at predicting the test set values than the multiple linear regression and ridge regression model, but it performs much better than simple linear regression.**"
   ]
  },
  {
   "cell_type": "code",
   "execution_count": 23,
   "id": "957bdb8b",
   "metadata": {},
   "outputs": [
    {
     "data": {
      "image/png": "[encoded data removed]",
      "text/plain": [
       "<Figure size 1080x576 with 1 Axes>"
      ]
     },
     "metadata": {
      "needs_background": "light"
     },
     "output_type": "display_data"
    }
   ],
   "source": [
    "# Plot predictions\n",
    "fig, ax = plt.subplots(figsize=(15,8))\n",
    "_ = plt.scatter(y_test, y_pred_rf)\n",
    "\n",
    "# Add a line for perfect correlation\n",
    "plt.plot([x for x in range(0,5000000)],[x for x in range(0,5000000)], color='red')\n",
    "\n",
    "# Add labels and title\n",
    "_ = plt.xlabel('Test values')\n",
    "_ = plt.ylabel('Predicted values')\n",
    "_ = plt.title('Random Forest Regression Model Test values vs. Predicted values')"
   ]
  },
  {
   "cell_type": "markdown",
   "id": "cf49a8ae",
   "metadata": {},
   "source": [
    "## Hyperparameter Tuning"
   ]
  },
  {
   "cell_type": "markdown",
   "id": "9b3ad6f9",
   "metadata": {},
   "source": [
    "### Ridge Regression Hyperparameter Tuning"
   ]
  },
  {
   "cell_type": "code",
   "execution_count": 24,
   "id": "e71bc401",
   "metadata": {},
   "outputs": [],
   "source": [
    "# Reinstantiate the model and set hyperparameter grid values to search\n",
    "ridge_tune = Ridge()\n",
    "\n",
    "param = {\n",
    "    'solver':['svd', 'cholesky', 'lsqr', 'sparse_cg', 'sag', 'saga'],\n",
    "    'alpha': [1, 2, 3, 4, 5, 6, 7, 8, 9, 10, 50, 100]\n",
    "}"
   ]
  },
  {
   "cell_type": "code",
   "execution_count": 25,
   "id": "0ed0543d",
   "metadata": {},
   "outputs": [],
   "source": [
    "# Create GridSearchCV object with parameter grid and 10-fold cross validation\n",
    "grid = GridSearchCV(ridge_tune, param, scoring=scoring, n_jobs=-1, cv=10)"
   ]
  },
  {
   "cell_type": "code",
   "execution_count": 26,
   "id": "0ed4ffd7",
   "metadata": {},
   "outputs": [
    {
     "data": {
      "text/plain": [
       "GridSearchCV(cv=10, estimator=Ridge(), n_jobs=-1,\n",
       "             param_grid={'alpha': [1, 2, 3, 4, 5, 6, 7, 8, 9, 10, 50, 100],\n",
       "                         'solver': ['svd', 'cholesky', 'lsqr', 'sparse_cg',\n",
       "                                    'sag', 'saga']},\n",
       "             scoring='neg_root_mean_squared_error')"
      ]
     },
     "execution_count": 26,
     "metadata": {},
     "output_type": "execute_result"
    }
   ],
   "source": [
    "# Fit GridSearchCV to training data\n",
    "grid.fit(X_train, y_train)"
   ]
  },
  {
   "cell_type": "code",
   "execution_count": 27,
   "id": "f9e57032",
   "metadata": {},
   "outputs": [
    {
     "name": "stdout",
     "output_type": "stream",
     "text": [
      "Best Score: -148501.36358194338\n",
      "Best Hyperparameters: {'alpha': 9, 'solver': 'cholesky'}\n"
     ]
    }
   ],
   "source": [
    "# Summarize result\n",
    "print('Best Score: %s' % grid.best_score_)\n",
    "print('Best Hyperparameters: %s' % grid.best_params_)"
   ]
  },
  {
   "cell_type": "code",
   "execution_count": 28,
   "id": "499175a6",
   "metadata": {},
   "outputs": [],
   "source": [
    "# Reinstantiate the model with optimal hyperparameters\n",
    "ridge_tune = Ridge(alpha=grid.best_params_['alpha'], solver=grid.best_params_['solver'])"
   ]
  },
  {
   "cell_type": "code",
   "execution_count": 29,
   "id": "a6c744db",
   "metadata": {},
   "outputs": [],
   "source": [
    "# Cross validate model\n",
    "score_ridge_tune = cross_validate(ridge_tune, X_train, y_train, cv=10, scoring=scoring, return_estimator=True)"
   ]
  },
  {
   "cell_type": "code",
   "execution_count": 30,
   "id": "988d8bf5",
   "metadata": {},
   "outputs": [],
   "source": [
    "# Fit hyperparameter tuned ridge regression model\n",
    "ridge_tune.fit(X_train, y_train)\n",
    "\n",
    "# Generate predictions\n",
    "y_pred_ridge_tune = ridge_tune.predict(X_test)"
   ]
  },
  {
   "cell_type": "code",
   "execution_count": 31,
   "id": "6f20df79",
   "metadata": {
    "scrolled": true
   },
   "outputs": [
    {
     "name": "stdout",
     "output_type": "stream",
     "text": [
      "Test set R2 score:           0.83289534\n",
      "Test set RMSE:               155320\n",
      "Mean cross validation RMSE:  148501\n"
     ]
    }
   ],
   "source": [
    "# Print R2 score and root mean square errors for cross validation and test set\n",
    "r2_score_ridge_tune = round(r2_score(y_test, y_pred_ridge_tune), 8)\n",
    "rmse_test_score_ridge_tune = round(mean_squared_error(y_test, y_pred_ridge_tune, squared=False))\n",
    "rmse_train_score_ridge_tune = round(-score_ridge_tune[\"test_score\"].mean())\n",
    "\n",
    "print(\"Test set R2 score:          \", r2_score_ridge_tune)\n",
    "print(\"Test set RMSE:              \", rmse_test_score_ridge_tune)\n",
    "print(\"Mean cross validation RMSE: \", rmse_train_score_ridge_tune)"
   ]
  },
  {
   "cell_type": "markdown",
   "id": "02e0190b",
   "metadata": {},
   "source": [
    "### Random Forest Regression Hyperparameter Tuning"
   ]
  },
  {
   "cell_type": "code",
   "execution_count": 32,
   "id": "bd249e99",
   "metadata": {},
   "outputs": [],
   "source": [
    "# Reinstantiate the model and set hyperparameter grid values to search\n",
    "rf_tune = RandomForestRegressor(random_state=1, n_jobs=-1)\n",
    "\n",
    "param = { \n",
    "    'n_estimators': [100, 200, 300, 400, 500, 600, 700],\n",
    "    'max_features': ['sqrt','log2'],\n",
    "    'max_depth' : [15,16,17,18,19,20]\n",
    "}"
   ]
  },
  {
   "cell_type": "code",
   "execution_count": 33,
   "id": "d6a657dd",
   "metadata": {},
   "outputs": [],
   "source": [
    "# Create GridSearchCV object with parameter grid and 10-fold cross validation\n",
    "grid = GridSearchCV(rf_tune, param_grid=param, scoring=scoring, cv=5, n_jobs=-1)"
   ]
  },
  {
   "cell_type": "code",
   "execution_count": 34,
   "id": "524f7a47",
   "metadata": {},
   "outputs": [
    {
     "data": {
      "text/plain": [
       "GridSearchCV(cv=5, estimator=RandomForestRegressor(n_jobs=-1, random_state=1),\n",
       "             n_jobs=-1,\n",
       "             param_grid={'max_depth': [15, 16, 17, 18, 19, 20],\n",
       "                         'max_features': ['sqrt', 'log2'],\n",
       "                         'n_estimators': [100, 200, 300, 400, 500, 600, 700]},\n",
       "             scoring='neg_root_mean_squared_error')"
      ]
     },
     "execution_count": 34,
     "metadata": {},
     "output_type": "execute_result"
    }
   ],
   "source": [
    "# Fit GridSearchCV to training data\n",
    "grid.fit(X_train, np.ravel(y_train))"
   ]
  },
  {
   "cell_type": "code",
   "execution_count": 35,
   "id": "b1883b81",
   "metadata": {},
   "outputs": [
    {
     "name": "stdout",
     "output_type": "stream",
     "text": [
      "Best Score: -168401.2023207345\n",
      "Best Hyperparameters: {'max_depth': 20, 'max_features': 'sqrt', 'n_estimators': 600}\n"
     ]
    }
   ],
   "source": [
    "# Summarize result\n",
    "print('Best Score: %s' % grid.best_score_)\n",
    "print('Best Hyperparameters: %s' % grid.best_params_)"
   ]
  },
  {
   "cell_type": "code",
   "execution_count": 36,
   "id": "94a4e32b",
   "metadata": {},
   "outputs": [],
   "source": [
    "# Reinstantiate the model with optimal hyperparameters\n",
    "rf_tune = RandomForestRegressor(max_depth=grid.best_params_['max_depth'], max_features=grid.best_params_['max_features'], n_estimators = grid.best_params_['n_estimators'], random_state=1, n_jobs=-1)"
   ]
  },
  {
   "cell_type": "code",
   "execution_count": 37,
   "id": "d023efbb",
   "metadata": {},
   "outputs": [],
   "source": [
    "# Cross validate model\n",
    "score_rf_tune = cross_validate(rf, X_train, np.ravel(y_train), cv=10, scoring=scoring, return_estimator=True)"
   ]
  },
  {
   "cell_type": "code",
   "execution_count": 38,
   "id": "d81e653d",
   "metadata": {},
   "outputs": [],
   "source": [
    "# Fit hyperparameter tuned random forest regression model\n",
    "rf_tune.fit(X_train, np.ravel(y_train))\n",
    "\n",
    "# Generate predictions\n",
    "y_pred_rf_tune = rf_tune.predict(X_test)"
   ]
  },
  {
   "cell_type": "code",
   "execution_count": 39,
   "id": "5c64af17",
   "metadata": {},
   "outputs": [
    {
     "name": "stdout",
     "output_type": "stream",
     "text": [
      "Test set R2 score:           0.78793758\n",
      "Test set RMSE:               174971\n",
      "Mean cross validation RMSE:  148866\n"
     ]
    }
   ],
   "source": [
    "# Print R2 score and root mean square errors for cross validation and test set\n",
    "r2_score_rf_tune = round(r2_score(y_test, y_pred_rf_tune), 8)\n",
    "rmse_test_score_rf_tune = round(mean_squared_error(y_test, y_pred_rf_tune, squared=False))\n",
    "rmse_train_score_rf_tune = round(-score_rf_tune[\"test_score\"].mean())\n",
    "\n",
    "print(\"Test set R2 score:          \", r2_score_rf_tune)\n",
    "print(\"Test set RMSE:              \", rmse_test_score_rf_tune)\n",
    "print(\"Mean cross validation RMSE: \", rmse_train_score_rf_tune)"
   ]
  },
  {
   "cell_type": "markdown",
   "id": "049ee36e",
   "metadata": {},
   "source": [
    "**The random forest regression model tuning has yielded a slightly better performance in cross validation, but the performance on the test set is getting worse compared to the default settings. Since the random forest regression model does not perform as well with the test data compared to ridge and multiple linear regression, additional tuning efforts will likely not be productive.**"
   ]
  },
  {
   "cell_type": "markdown",
   "id": "145eee1f",
   "metadata": {},
   "source": [
    "## Summary Table"
   ]
  },
  {
   "cell_type": "code",
   "execution_count": 40,
   "id": "e452657a",
   "metadata": {},
   "outputs": [],
   "source": [
    "# Make lists of model labels and scoring metrics\n",
    "model_list = ['Simple Linear Regression','Multiple Linear Regression','Ridge Regression',\n",
    "              'Ridge Regression (tuned)', 'Random Forest Regression', 'Random Forest Regression (tuned)']\n",
    "scores_train = [rmse_train_score_lr1, rmse_train_score_lr2, rmse_train_score_ridge,\n",
    "                rmse_train_score_ridge_tune, rmse_train_score_rf, rmse_train_score_rf_tune]\n",
    "scores_test = [rmse_test_score_lr1, rmse_test_score_lr2, rmse_test_score_ridge,\n",
    "                rmse_test_score_ridge_tune, rmse_test_score_rf, rmse_test_score_rf_tune]\n",
    "r2_test = [r2_score_lr1, r2_score_lr2, r2_score_ridge, r2_score_ridge_tune, r2_score_rf, r2_score_rf_tune]"
   ]
  },
  {
   "cell_type": "code",
   "execution_count": 41,
   "id": "038babe8",
   "metadata": {},
   "outputs": [],
   "source": [
    "# Create DataFrame of scoring metrics\n",
    "score_table = pd.DataFrame(list(zip(scores_train, scores_test, r2_test)),\n",
    "                           columns =['Training Set Cross Validation RMSE', 'Test Set RMSE', 'Test Set R2 Score'], index=model_list) "
   ]
  },
  {
   "cell_type": "code",
   "execution_count": 42,
   "id": "c383477e",
   "metadata": {},
   "outputs": [
    {
     "data": {
      "text/html": [
       "<div>\n",
       "<style scoped>\n",
       "    .dataframe tbody tr th:only-of-type {\n",
       "        vertical-align: middle;\n",
       "    }\n",
       "\n",
       "    .dataframe tbody tr th {\n",
       "        vertical-align: top;\n",
       "    }\n",
       "\n",
       "    .dataframe thead th {\n",
       "        text-align: right;\n",
       "    }\n",
       "</style>\n",
       "<table border=\"1\" class=\"dataframe\">\n",
       "  <thead>\n",
       "    <tr style=\"text-align: right;\">\n",
       "      <th></th>\n",
       "      <th>Training Set Cross Validation RMSE</th>\n",
       "      <th>Test Set RMSE</th>\n",
       "      <th>Test Set R2 Score</th>\n",
       "    </tr>\n",
       "  </thead>\n",
       "  <tbody>\n",
       "    <tr>\n",
       "      <th>Simple Linear Regression</th>\n",
       "      <td>255984</td>\n",
       "      <td>272965</td>\n",
       "      <td>0.483883</td>\n",
       "    </tr>\n",
       "    <tr>\n",
       "      <th>Multiple Linear Regression</th>\n",
       "      <td>148509</td>\n",
       "      <td>155314</td>\n",
       "      <td>0.832908</td>\n",
       "    </tr>\n",
       "    <tr>\n",
       "      <th>Ridge Regression</th>\n",
       "      <td>148506</td>\n",
       "      <td>155314</td>\n",
       "      <td>0.832908</td>\n",
       "    </tr>\n",
       "    <tr>\n",
       "      <th>Ridge Regression (tuned)</th>\n",
       "      <td>148501</td>\n",
       "      <td>155320</td>\n",
       "      <td>0.832895</td>\n",
       "    </tr>\n",
       "    <tr>\n",
       "      <th>Random Forest Regression</th>\n",
       "      <td>148539</td>\n",
       "      <td>169468</td>\n",
       "      <td>0.801065</td>\n",
       "    </tr>\n",
       "    <tr>\n",
       "      <th>Random Forest Regression (tuned)</th>\n",
       "      <td>148866</td>\n",
       "      <td>174971</td>\n",
       "      <td>0.787938</td>\n",
       "    </tr>\n",
       "  </tbody>\n",
       "</table>\n",
       "</div>"
      ],
      "text/plain": [
       "                                  Training Set Cross Validation RMSE  \\\n",
       "Simple Linear Regression                                      255984   \n",
       "Multiple Linear Regression                                    148509   \n",
       "Ridge Regression                                              148506   \n",
       "Ridge Regression (tuned)                                      148501   \n",
       "Random Forest Regression                                      148539   \n",
       "Random Forest Regression (tuned)                              148866   \n",
       "\n",
       "                                  Test Set RMSE  Test Set R2 Score  \n",
       "Simple Linear Regression                 272965           0.483883  \n",
       "Multiple Linear Regression               155314           0.832908  \n",
       "Ridge Regression                         155314           0.832908  \n",
       "Ridge Regression (tuned)                 155320           0.832895  \n",
       "Random Forest Regression                 169468           0.801065  \n",
       "Random Forest Regression (tuned)         174971           0.787938  "
      ]
     },
     "execution_count": 42,
     "metadata": {},
     "output_type": "execute_result"
    }
   ],
   "source": [
    "# View scoring metrics table\n",
    "score_table"
   ]
  },
  {
   "cell_type": "markdown",
   "id": "f9d2ad40",
   "metadata": {},
   "source": [
    "## Conclusions"
   ]
  },
  {
   "cell_type": "markdown",
   "id": "dc8165bc",
   "metadata": {},
   "source": [
    "**Multiple linear regression and ridge regression (alpha=1.0) perform well at predicting the test data. These are the best models and are a substantial improvement over simple linear regression.**\n",
    "\n",
    "**Hyperparameter tuning was explored, but it yielded negligible improvement to the default model settings. Random forest regression also performs well, but it does not generalize to the test data as well as multiple linear regression.**"
   ]
  },
  {
   "cell_type": "code",
   "execution_count": null,
   "id": "b2c4d8aa",
   "metadata": {},
   "outputs": [],
   "source": []
  }
 ],
 "metadata": {
  "kernelspec": {
   "display_name": "Python 3 (ipykernel)",
   "language": "python",
   "name": "python3"
  },
  "language_info": {
   "codemirror_mode": {
    "name": "ipython",
    "version": 3
   },
   "file_extension": ".py",
   "mimetype": "text/x-python",
   "name": "python",
   "nbconvert_exporter": "python",
   "pygments_lexer": "ipython3",
   "version": "3.8.13"
  }
 },
 "nbformat": 4,
 "nbformat_minor": 5
}
